In the following code, print 98.6. What is "98.6"?
Answer: A constant
In the following code, x = 42. What is "x"?
Answer: A variable
Which of the following variables is the "most mnemonic"?
Answer: hours
Which of the following is not a Python reserved word?
Answer: speed
Assume the variable x has been initialized to an integer value (e.g., x = 3). What does the following statement do? x = x + 2
Answer: Retrieve the current value for x, add two to it and put the sum back into x
Which of the following elements of a mathematical expression in Python is evaluated first? 
Answer: -Parenthesis()
What is the value of the following expression
Answer: 2
What will be the value of x after the following statement executes: x = 1 + 2 * 3 - 8 / 4
Answer: 5
What will be the value of x when the following statement is executed: x = int(98.6)
Answer: 98
What does the Python raw_input() function do?
Answer: Pause the program and read data from the user
